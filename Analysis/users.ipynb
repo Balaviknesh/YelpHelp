{
 "cells": [
  {
   "cell_type": "code",
   "execution_count": 1,
   "metadata": {
    "collapsed": true,
    "pycharm": {
     "is_executing": false
    }
   },
   "outputs": [],
   "source": [
    "from pyspark.sql import SparkSession\n",
    "import pyspark.sql.functions as func\n",
    "from pyspark.sql.types import StructType, StructField, StringType, DoubleType, DateType"
   ]
  },
  {
   "cell_type": "code",
   "execution_count": 2,
   "outputs": [],
   "source": [
    "spark = SparkSession.builder.appName(\"YelpHelp\")\\\n",
    "    .master(\"local\")\\\n",
    "    .config(\"spark.executor.memory\", \"16g\")\\\n",
    "    .config(\"spark.driver.memory\", \"16g\")\\\n",
    "    .getOrCreate()"
   ],
   "metadata": {
    "collapsed": false,
    "pycharm": {
     "name": "#%%\n",
     "is_executing": false
    }
   }
  },
  {
   "cell_type": "code",
   "execution_count": 3,
   "outputs": [
    {
     "name": "stdout",
     "text": [
      "+--------------------+--------+-------------+\n",
      "|             user_id|    name|yelping_since|\n",
      "+--------------------+--------+-------------+\n",
      "|ntlvfPzc8eglqvk92...|  Rafael|   2007-07-06|\n",
      "|FOBRPlBHa3WPHFB5q...|Michelle|   2008-04-28|\n",
      "|zZUnPeh2hEp0WydbA...|  Martin|   2008-08-28|\n",
      "|QaELAmRcDc5TfJEyl...|    John|   2008-09-20|\n",
      "|xvu8G900tezTzbbfq...|    Anne|   2008-08-09|\n",
      "+--------------------+--------+-------------+\n",
      "only showing top 5 rows\n",
      "\n"
     ],
     "output_type": "stream"
    }
   ],
   "source": [
    "u_schema = StructType([\n",
    "    StructField(\"user_id\", StringType(), False),\n",
    "    StructField(\"name\",StringType(),True),\n",
    "    StructField(\"yelping_since\",DateType(),True)    \n",
    "])\n",
    "userDataset = spark.read.json(\"../yelp_dataset/yelp_academic_dataset_user.json\", schema=u_schema)\n",
    "userDataset.show(5)\n",
    "dataset = userDataset.withColumn('year', func.year(\"yelping_since\")).repartition(16, \"year\")\n",
    "dataset.write.partitionBy(\"year\").json(\"../YelpDatasetYearly/User/yelp_academic_dataset_user\")"
   ],
   "metadata": {
    "collapsed": false,
    "pycharm": {
     "name": "#%%\n",
     "is_executing": false
    }
   }
  },
  {
   "cell_type": "code",
   "execution_count": null,
   "outputs": [],
   "source": [
    "\n"
   ],
   "metadata": {
    "collapsed": false,
    "pycharm": {
     "name": "#%%\n"
    }
   }
  }
 ],
 "metadata": {
  "kernelspec": {
   "display_name": "Python 3",
   "language": "python",
   "name": "python3"
  },
  "language_info": {
   "codemirror_mode": {
    "name": "ipython",
    "version": 2
   },
   "file_extension": ".py",
   "mimetype": "text/x-python",
   "name": "python",
   "nbconvert_exporter": "python",
   "pygments_lexer": "ipython2",
   "version": "2.7.6"
  },
  "pycharm": {
   "stem_cell": {
    "cell_type": "raw",
    "source": [],
    "metadata": {
     "collapsed": false
    }
   }
  }
 },
 "nbformat": 4,
 "nbformat_minor": 0
}
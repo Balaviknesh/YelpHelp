{
 "cells": [
  {
   "cell_type": "code",
   "execution_count": 1,
   "metadata": {
    "collapsed": true,
    "pycharm": {
     "is_executing": false
    }
   },
   "outputs": [],
   "source": [
    "from pyspark.sql import SparkSession\n",
    "import pyspark.sql.functions as func\n",
    "from pyspark.sql.types import StructType, StructField, StringType, DoubleType"
   ]
  },
  {
   "cell_type": "code",
   "execution_count": 2,
   "outputs": [],
   "source": [
    "spark = SparkSession.builder.appName(\"YelpHelp\")\\\n",
    "    .master(\"local\")\\\n",
    "    .config(\"spark.executor.memory\", \"16g\")\\\n",
    "    .config(\"spark.driver.memory\", \"16g\")\\\n",
    "    .getOrCreate()"
   ],
   "metadata": {
    "collapsed": false,
    "pycharm": {
     "name": "#%%\n",
     "is_executing": false
    }
   }
  },
  {
   "cell_type": "code",
   "execution_count": 3,
   "outputs": [],
   "source": [
    "hourSchema = StructType({\n",
    "    StructField(\"Monday\",StringType(),True),\n",
    "         StructField(\"Tuesday\",StringType(),True),\n",
    "         StructField(\"Wednesday\",StringType(),True),\n",
    "         StructField(\"Thursday\",StringType(),True),\n",
    "        StructField(\"Friday\",StringType(),True),\n",
    "         StructField(\"Sunday\",StringType(),True),\n",
    "         StructField(\"Saturday\",StringType(),True)})\n",
    "b_schema = StructType([\n",
    "    StructField(\"business_id\", StringType(), False),\n",
    "    StructField(\"name\",StringType(),True),\n",
    "    StructField(\"address\",StringType(),True),\n",
    "    StructField(\"city\",StringType(),True),\n",
    "    StructField(\"state\",StringType(),True),\n",
    "    StructField(\"postal_code\",StringType(),True),\n",
    "    StructField(\"latitude\",DoubleType(),True),\n",
    "    StructField(\"longitude\",DoubleType(),True),\n",
    "    StructField(\"categories\", StringType(),True),\n",
    "    StructField(\"hours\", hourSchema, True)\n",
    "    \n",
    "])\n",
    "businessDataset = spark.read.json(\"../yelp_dataset/yelp_academic_dataset_business.json\", schema=b_schema)"
   ],
   "metadata": {
    "collapsed": false,
    "pycharm": {
     "name": "#%%\n",
     "is_executing": false
    }
   }
  },
  {
   "cell_type": "code",
   "execution_count": 4,
   "outputs": [],
   "source": [
    "businessDataset.write.json(\"../YelpDatasetYearly/Business/yelp_academic_dataset_business\")\n",
    "\n"
   ],
   "metadata": {
    "collapsed": false,
    "pycharm": {
     "name": "#%%\n",
     "is_executing": false
    }
   }
  },
  {
   "cell_type": "code",
   "execution_count": null,
   "outputs": [],
   "source": [],
   "metadata": {
    "collapsed": false,
    "pycharm": {
     "name": "#%%\n"
    }
   }
  }
 ],
 "metadata": {
  "kernelspec": {
   "display_name": "Python 3",
   "language": "python",
   "name": "python3"
  },
  "language_info": {
   "codemirror_mode": {
    "name": "ipython",
    "version": 2
   },
   "file_extension": ".py",
   "mimetype": "text/x-python",
   "name": "python",
   "nbconvert_exporter": "python",
   "pygments_lexer": "ipython2",
   "version": "2.7.6"
  },
  "pycharm": {
   "stem_cell": {
    "cell_type": "raw",
    "source": [],
    "metadata": {
     "collapsed": false
    }
   }
  }
 },
 "nbformat": 4,
 "nbformat_minor": 0
}
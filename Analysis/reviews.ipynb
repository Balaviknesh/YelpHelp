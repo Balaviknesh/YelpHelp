{
 "cells": [
  {
   "cell_type": "code",
   "execution_count": 1,
   "outputs": [],
   "source": [
    "from pyspark.sql import SparkSession\n",
    "import pyspark.sql.functions as func\n",
    "from pyspark.sql.types import StructType, StructField, StringType, LongType, DateType, DoubleType, BooleanType, \\\n",
    "    ArrayType"
   ],
   "metadata": {
    "collapsed": false,
    "pycharm": {
     "name": "#%%\n",
     "is_executing": false
    }
   }
  },
  {
   "cell_type": "code",
   "execution_count": 2,
   "outputs": [],
   "source": [
    "spark = SparkSession.builder.appName(\"YelpHelp\")\\\n",
    "    .master(\"local\")\\\n",
    "    .config(\"spark.executor.memory\", \"16g\")\\\n",
    "    .config(\"spark.driver.memory\", \"16g\")\\\n",
    "    .getOrCreate()"
   ],
   "metadata": {
    "collapsed": false,
    "pycharm": {
     "name": "#%%\n",
     "is_executing": false
    }
   }
  },
  {
   "cell_type": "code",
   "execution_count": 5,
   "outputs": [],
   "source": [
    "schema = StructType([\n",
    "    StructField(\"review_id\",StringType(),True),\n",
    "    StructField(\"user_id\",StringType(),True),\n",
    "    StructField(\"business_id\", StringType(), True),\n",
    "    StructField(\"text\",StringType(),True),\n",
    "    StructField(\"stars\",DoubleType(),True),\n",
    "    StructField(\"cool\",LongType(),True),\n",
    "    StructField(\"funny\",LongType(),True),\n",
    "    StructField(\"useful\",LongType(),True),\n",
    "    \n",
    "    StructField(\"date\",DateType(),True)  \n",
    "])\n",
    "dataset = spark.read.json(\"../yelp_dataset/yelp_academic_dataset_review.json\", schema=schema)\n",
    "dataset = dataset.withColumn('year', func.year(\"date\")).repartition(16, \"year\")\n",
    "dataset.write.partitionBy(\"year\").json(\"../YelpDatasetYearly/Review/yelp_academic_dataset_review\")"
   ],
   "metadata": {
    "collapsed": false,
    "pycharm": {
     "name": "#%%\n",
     "is_executing": false
    }
   }
  },
  {
   "cell_type": "code",
   "execution_count": null,
   "outputs": [],
   "source": [
    "\n"
   ],
   "metadata": {
    "collapsed": false,
    "pycharm": {
     "name": "#%%\n"
    }
   }
  }
 ],
 "metadata": {
  "kernelspec": {
   "display_name": "Python 3",
   "language": "python",
   "name": "python3"
  },
  "language_info": {
   "codemirror_mode": {
    "name": "ipython",
    "version": 2
   },
   "file_extension": ".py",
   "mimetype": "text/x-python",
   "name": "python",
   "nbconvert_exporter": "python",
   "pygments_lexer": "ipython2",
   "version": "2.7.6"
  },
  "pycharm": {
   "stem_cell": {
    "cell_type": "raw",
    "source": [],
    "metadata": {
     "collapsed": false
    }
   }
  }
 },
 "nbformat": 4,
 "nbformat_minor": 0
}
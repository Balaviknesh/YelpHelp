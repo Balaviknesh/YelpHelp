{
 "cells": [
  {
   "cell_type": "code",
   "execution_count": 1,
   "outputs": [],
   "source": [
    "from pyspark.sql import SparkSession\n",
    "import pyspark.sql.functions as func\n",
    "from pyspark.sql.types import StructType, StructField, StringType, LongType, DateType"
   ],
   "metadata": {
    "collapsed": false,
    "pycharm": {
     "name": "#%%\n",
     "is_executing": false
    }
   }
  },
  {
   "cell_type": "code",
   "execution_count": 2,
   "outputs": [],
   "source": [
    "spark = SparkSession.builder.appName(\"YelpHelp\")\\\n",
    "    .master(\"local\")\\\n",
    "    .config(\"spark.executor.memory\", \"16g\")\\\n",
    "    .config(\"spark.driver.memory\", \"16g\")\\\n",
    "    .getOrCreate()"
   ],
   "metadata": {
    "collapsed": false,
    "pycharm": {
     "name": "#%%\n",
     "is_executing": false
    }
   }
  },
  {
   "cell_type": "code",
   "execution_count": 4,
   "outputs": [
    {
     "name": "stdout",
     "text": [
      "+--------------------+--------------------+--------------------+----------------+----------+\n",
      "|             user_id|         business_id|                text|compliment_count|      date|\n",
      "+--------------------+--------------------+--------------------+----------------+----------+\n",
      "|hf27xTME3EiCp6NL6...|UYX5zL_Xj9WEc_Wp-...|Here for a quick mtg|               0|2013-11-26|\n",
      "|uEvusDwoSymbJJ0au...|Ch3HkwQYv1YKw_FO0...|Cucumber strawber...|               0|2014-06-15|\n",
      "|AY-laIws3S7YXNl_f...|rDoT-MgxGRiYqCmi0...|Very nice good se...|               0|2016-07-18|\n",
      "|Ue_7yUlkEbX4AhnYd...|OHXnDV01gLokiX1EL...|It's a small plac...|               0|2014-06-06|\n",
      "|LltbT_fUMqZ-ZJP-v...|GMrwDXRlAZU2zj5nH...|8 sandwiches, $24...|               0|2011-04-08|\n",
      "+--------------------+--------------------+--------------------+----------------+----------+\n",
      "only showing top 5 rows\n",
      "\n"
     ],
     "output_type": "stream"
    }
   ],
   "source": [
    "u_schema = StructType([\n",
    "    StructField(\"user_id\", StringType(), False),\n",
    "    StructField(\"business_id\", StringType(), False),\n",
    "    StructField(\"text\", StringType(), True),\n",
    "    StructField(\"compliment_count\",LongType(),True),\n",
    "    StructField(\"date\",DateType(),True)    \n",
    "])\n",
    "userDataset = spark.read.json(\"../yelp_dataset/yelp_academic_dataset_tip.json\", schema=u_schema)\n",
    "userDataset.show(5)"
   ],
   "metadata": {
    "collapsed": false,
    "pycharm": {
     "name": "#%%\n",
     "is_executing": false
    }
   }
  },
  {
   "cell_type": "code",
   "execution_count": 7,
   "outputs": [
    {
     "name": "stdout",
     "text": [
      "+--------------------+--------------------+--------------------+----------------+----------+\n",
      "|             user_id|         business_id|                text|compliment_count|      date|\n",
      "+--------------------+--------------------+--------------------+----------------+----------+\n",
      "|wTfb2nfzPIyFcYQAr...|gwdQwe1JHLe-vPY9P...|Ending your pet's...|              15|2016-11-15|\n",
      "|wTfb2nfzPIyFcYQAr...|Rrzm4bQDrrUnDyA5e...|1st Pet was very ...|              12|2016-09-14|\n",
      "|8DEyKVyplnOcSKx39...|j7zJxmr8BfYJhC3KW...|License photograp...|              11|2015-09-17|\n",
      "|Fv0e9RIV9jw5TX3ct...|QJ6GXAAMkgCZPF0bZ...|Heads up.... The ...|               9|2015-06-18|\n",
      "|A5A34ixb-yy6nwL42...|D6K3VT6S8FwFm4u5u...|WARNING, TMI to f...|               8|2015-08-16|\n",
      "+--------------------+--------------------+--------------------+----------------+----------+\n",
      "only showing top 5 rows\n",
      "\n"
     ],
     "output_type": "stream"
    }
   ],
   "source": [
    "userDataset.sort(func.col(\"compliment_count\").desc()).show(5)"
   ],
   "metadata": {
    "collapsed": false,
    "pycharm": {
     "name": "#%%\n",
     "is_executing": false
    }
   }
  },
  {
   "cell_type": "code",
   "execution_count": null,
   "outputs": [],
   "source": [
    "dataset = userDataset.withColumn('year', func.year(\"date\")).repartition(\"year\")\n",
    "dataset.write.partitionBy(\"year\").json(\"../YelpDatasetYearly/Tip/yelp_academic_dataset_tip\")\n"
   ],
   "metadata": {
    "collapsed": false,
    "pycharm": {
     "name": "#%%\n"
    }
   }
  },
  {
   "cell_type": "code",
   "execution_count": null,
   "outputs": [],
   "source": [
    "\n"
   ],
   "metadata": {
    "collapsed": false,
    "pycharm": {
     "name": "#%%\n"
    }
   }
  }
 ],
 "metadata": {
  "kernelspec": {
   "display_name": "Python 3",
   "language": "python",
   "name": "python3"
  },
  "language_info": {
   "codemirror_mode": {
    "name": "ipython",
    "version": 2
   },
   "file_extension": ".py",
   "mimetype": "text/x-python",
   "name": "python",
   "nbconvert_exporter": "python",
   "pygments_lexer": "ipython2",
   "version": "2.7.6"
  },
  "pycharm": {
   "stem_cell": {
    "cell_type": "raw",
    "source": [],
    "metadata": {
     "collapsed": false
    }
   }
  }
 },
 "nbformat": 4,
 "nbformat_minor": 0
}